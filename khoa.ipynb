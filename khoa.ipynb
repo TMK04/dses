{
 "cells": [
  {
   "cell_type": "code",
   "execution_count": 8,
   "metadata": {},
   "outputs": [
    {
     "name": "stdout",
     "output_type": "stream",
     "text": [
      "<class 'pandas.core.frame.DataFrame'>\n",
      "RangeIndex: 2240 entries, 0 to 2239\n",
      "Data columns (total 29 columns):\n",
      " #   Column               Non-Null Count  Dtype  \n",
      "---  ------               --------------  -----  \n",
      " 0   ID                   2240 non-null   int64  \n",
      " 1   Year_Birth           2240 non-null   int64  \n",
      " 2   Education            2240 non-null   object \n",
      " 3   Marital_Status       2240 non-null   object \n",
      " 4   Income               2216 non-null   float64\n",
      " 5   Kidhome              2240 non-null   int64  \n",
      " 6   Teenhome             2240 non-null   int64  \n",
      " 7   Dt_Customer          2240 non-null   object \n",
      " 8   Recency              2240 non-null   int64  \n",
      " 9   MntWines             2240 non-null   int64  \n",
      " 10  MntFruits            2240 non-null   int64  \n",
      " 11  MntMeatProducts      2240 non-null   int64  \n",
      " 12  MntFishProducts      2240 non-null   int64  \n",
      " 13  MntSweetProducts     2240 non-null   int64  \n",
      " 14  MntGoldProds         2240 non-null   int64  \n",
      " 15  NumDealsPurchases    2240 non-null   int64  \n",
      " 16  NumWebPurchases      2240 non-null   int64  \n",
      " 17  NumCatalogPurchases  2240 non-null   int64  \n",
      " 18  NumStorePurchases    2240 non-null   int64  \n",
      " 19  NumWebVisitsMonth    2240 non-null   int64  \n",
      " 20  AcceptedCmp3         2240 non-null   int64  \n",
      " 21  AcceptedCmp4         2240 non-null   int64  \n",
      " 22  AcceptedCmp5         2240 non-null   int64  \n",
      " 23  AcceptedCmp1         2240 non-null   int64  \n",
      " 24  AcceptedCmp2         2240 non-null   int64  \n",
      " 25  Complain             2240 non-null   int64  \n",
      " 26  Z_CostContact        2240 non-null   int64  \n",
      " 27  Z_Revenue            2240 non-null   int64  \n",
      " 28  Response             2240 non-null   int64  \n",
      "dtypes: float64(1), int64(25), object(3)\n",
      "memory usage: 507.6+ KB\n",
      "None\n"
     ]
    }
   ],
   "source": [
    "import pandas as pd\n",
    "\n",
    "ifood = pd.read_csv(\"./ifood.csv\")\n",
    "print(ifood.info())"
   ]
  },
  {
   "cell_type": "markdown",
   "metadata": {},
   "source": [
    "## Data Cleaning"
   ]
  },
  {
   "cell_type": "markdown",
   "metadata": {},
   "source": [
    "### Constant Columns"
   ]
  },
  {
   "cell_type": "code",
   "execution_count": 9,
   "metadata": {},
   "outputs": [],
   "source": [
    "ifood = ifood.drop([\"Z_CostContact\", \"Z_Revenue\"], axis=1)"
   ]
  },
  {
   "cell_type": "markdown",
   "metadata": {},
   "source": [
    "### Duplicates"
   ]
  },
  {
   "cell_type": "code",
   "execution_count": 10,
   "metadata": {},
   "outputs": [
    {
     "name": "stdout",
     "output_type": "stream",
     "text": [
      "      Year_Birth   Education Marital_Status    Income  Kidhome  Teenhome  \\\n",
      "0           1957  Graduation         Single   58138.0        0         0   \n",
      "1           1954  Graduation         Single   46344.0        1         1   \n",
      "2           1965  Graduation       Together   71613.0        0         0   \n",
      "3           1984  Graduation       Together   26646.0        1         0   \n",
      "4           1981         PhD        Married   58293.0        1         0   \n",
      "...          ...         ...            ...       ...      ...       ...   \n",
      "2233        1977  Graduation       Together  666666.0        1         0   \n",
      "2235        1967  Graduation        Married   61223.0        0         1   \n",
      "2237        1981  Graduation       Divorced   56981.0        0         0   \n",
      "2238        1956      Master       Together   69245.0        0         1   \n",
      "2239        1954         PhD        Married   52869.0        1         1   \n",
      "\n",
      "     Dt_Customer  Recency  MntWines  MntFruits  ...  NumCatalogPurchases  \\\n",
      "0     2012-09-04       58       635         88  ...                   10   \n",
      "1     2014-03-08       38        11          1  ...                    1   \n",
      "2     2013-08-21       26       426         49  ...                    2   \n",
      "3     2014-02-10       26        11          4  ...                    0   \n",
      "4     2014-01-19       94       173         43  ...                    3   \n",
      "...          ...      ...       ...        ...  ...                  ...   \n",
      "2233  2013-06-02       23         9         14  ...                    1   \n",
      "2235  2013-06-13       46       709         43  ...                    3   \n",
      "2237  2014-01-25       91       908         48  ...                    3   \n",
      "2238  2014-01-24        8       428         30  ...                    5   \n",
      "2239  2012-10-15       40        84          3  ...                    1   \n",
      "\n",
      "      NumStorePurchases  NumWebVisitsMonth  AcceptedCmp3  AcceptedCmp4  \\\n",
      "0                     4                  7             0             0   \n",
      "1                     2                  5             0             0   \n",
      "2                    10                  4             0             0   \n",
      "3                     4                  6             0             0   \n",
      "4                     6                  5             0             0   \n",
      "...                 ...                ...           ...           ...   \n",
      "2233                  3                  6             0             0   \n",
      "2235                  4                  5             0             0   \n",
      "2237                 13                  6             0             1   \n",
      "2238                 10                  3             0             0   \n",
      "2239                  4                  7             0             0   \n",
      "\n",
      "      AcceptedCmp5  AcceptedCmp1  AcceptedCmp2  Complain  Response  \n",
      "0                0             0             0         0         1  \n",
      "1                0             0             0         0         0  \n",
      "2                0             0             0         0         0  \n",
      "3                0             0             0         0         0  \n",
      "4                0             0             0         0         0  \n",
      "...            ...           ...           ...       ...       ...  \n",
      "2233             0             0             0         0         0  \n",
      "2235             0             0             0         0         0  \n",
      "2237             0             0             0         0         0  \n",
      "2238             0             0             0         0         0  \n",
      "2239             0             0             0         0         1  \n",
      "\n",
      "[2058 rows x 26 columns]\n"
     ]
    }
   ],
   "source": [
    "ifood = ifood.drop(\"ID\", axis=1).drop_duplicates()\n",
    "print(ifood)"
   ]
  },
  {
   "cell_type": "markdown",
   "metadata": {},
   "source": [
    "### Missing Values"
   ]
  },
  {
   "cell_type": "code",
   "execution_count": null,
   "metadata": {},
   "outputs": [],
   "source": [
    "# Remove missing values; there are only 24 of them"
   ]
  }
 ],
 "metadata": {
  "interpreter": {
   "hash": "cc4b3de7b0b7ce6b1c2c518757e9e54c8dd73823412aeeed09e6b284ef831903"
  },
  "kernelspec": {
   "display_name": "Python 3.9.12 ('ai')",
   "language": "python",
   "name": "python3"
  },
  "language_info": {
   "codemirror_mode": {
    "name": "ipython",
    "version": 3
   },
   "file_extension": ".py",
   "mimetype": "text/x-python",
   "name": "python",
   "nbconvert_exporter": "python",
   "pygments_lexer": "ipython3",
   "version": "3.9.12"
  },
  "orig_nbformat": 4
 },
 "nbformat": 4,
 "nbformat_minor": 2
}
